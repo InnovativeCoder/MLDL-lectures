{
 "cells": [
  {
   "cell_type": "code",
   "execution_count": 1,
   "metadata": {},
   "outputs": [
    {
     "name": "stderr",
     "output_type": "stream",
     "text": [
      "Using TensorFlow backend.\n"
     ]
    }
   ],
   "source": [
    "import keras"
   ]
  },
  {
   "cell_type": "code",
   "execution_count": 2,
   "metadata": {
    "collapsed": true
   },
   "outputs": [],
   "source": [
    "from keras.models import Sequential\n",
    "from keras.layers import Dense"
   ]
  },
  {
   "cell_type": "code",
   "execution_count": 3,
   "metadata": {
    "collapsed": true
   },
   "outputs": [],
   "source": [
    "#Creating a model\n",
    "model = Sequential()"
   ]
  },
  {
   "cell_type": "code",
   "execution_count": 4,
   "metadata": {
    "collapsed": true
   },
   "outputs": [],
   "source": [
    "layer1 = Dense(units=32, activation='relu', input_dim = 30)\n",
    "model.add(layer1)\n",
    "model.add(Dense(units=16, activation='relu')) #another way of adding a layer\n",
    "model.add(Dense(units=1, activation='sigmoid')) #binary classification"
   ]
  },
  {
   "cell_type": "code",
   "execution_count": 5,
   "metadata": {
    "collapsed": true
   },
   "outputs": [],
   "source": [
    "model.compile(optimizer='Adam', loss='binary_crossentropy', metrics = ['accuracy']) #we will take breast cancer dataset, so binary\n"
   ]
  },
  {
   "cell_type": "code",
   "execution_count": null,
   "metadata": {
    "collapsed": true
   },
   "outputs": [],
   "source": [
    "#load and fit the data\n",
    "#fit --> x,y,epochs, batch_size, calidation data = test data"
   ]
  },
  {
   "cell_type": "code",
   "execution_count": 6,
   "metadata": {
    "collapsed": true
   },
   "outputs": [],
   "source": [
    "#loading data\n",
    "from sklearn import datasets\n",
    "from sklearn.model_selection import train_test_split\n",
    "\n",
    "cancer = datasets.load_breast_cancer()\n",
    "x_train, x_test, y_train, y_test = train_test_split(cancer.data, cancer.target, test_size =0.2, random_state = 0)\n",
    "\n",
    "#scaling the data\n",
    "from sklearn.preprocessing import StandardScaler\n",
    "sc = StandardScaler()\n",
    "x_train = sc.fit_transform(x_train)\n",
    "x_test = sc.transform(x_test)"
   ]
  },
  {
   "cell_type": "code",
   "execution_count": 9,
   "metadata": {},
   "outputs": [
    {
     "name": "stdout",
     "output_type": "stream",
     "text": [
      "Train on 455 samples, validate on 114 samples\n",
      "Epoch 1/20\n",
      "455/455 [==============================] - 0s 251us/step - loss: 0.0383 - acc: 0.9912 - val_loss: 0.0840 - val_acc: 0.9649\n",
      "Epoch 2/20\n",
      "455/455 [==============================] - 0s 164us/step - loss: 0.0368 - acc: 0.9912 - val_loss: 0.0843 - val_acc: 0.9649\n",
      "Epoch 3/20\n",
      "455/455 [==============================] - 0s 129us/step - loss: 0.0359 - acc: 0.9912 - val_loss: 0.0825 - val_acc: 0.9649\n",
      "Epoch 4/20\n",
      "455/455 [==============================] - 0s 123us/step - loss: 0.0339 - acc: 0.9912 - val_loss: 0.0832 - val_acc: 0.9649\n",
      "Epoch 5/20\n",
      "455/455 [==============================] - 0s 155us/step - loss: 0.0333 - acc: 0.9912 - val_loss: 0.0828 - val_acc: 0.9649\n",
      "Epoch 6/20\n",
      "455/455 [==============================] - 0s 166us/step - loss: 0.0325 - acc: 0.9890 - val_loss: 0.0831 - val_acc: 0.9649\n",
      "Epoch 7/20\n",
      "455/455 [==============================] - 0s 184us/step - loss: 0.0306 - acc: 0.9912 - val_loss: 0.0816 - val_acc: 0.9649\n",
      "Epoch 8/20\n",
      "455/455 [==============================] - 0s 176us/step - loss: 0.0299 - acc: 0.9912 - val_loss: 0.0811 - val_acc: 0.9649\n",
      "Epoch 9/20\n",
      "455/455 [==============================] - 0s 170us/step - loss: 0.0291 - acc: 0.9912 - val_loss: 0.0830 - val_acc: 0.9649\n",
      "Epoch 10/20\n",
      "455/455 [==============================] - 0s 152us/step - loss: 0.0282 - acc: 0.9912 - val_loss: 0.0811 - val_acc: 0.9649\n",
      "Epoch 11/20\n",
      "455/455 [==============================] - 0s 145us/step - loss: 0.0270 - acc: 0.9912 - val_loss: 0.0814 - val_acc: 0.9649\n",
      "Epoch 12/20\n",
      "455/455 [==============================] - 0s 174us/step - loss: 0.0260 - acc: 0.9912 - val_loss: 0.0830 - val_acc: 0.9649\n",
      "Epoch 13/20\n",
      "455/455 [==============================] - 0s 196us/step - loss: 0.0250 - acc: 0.9912 - val_loss: 0.0823 - val_acc: 0.9649\n",
      "Epoch 14/20\n",
      "455/455 [==============================] - 0s 152us/step - loss: 0.0246 - acc: 0.9934 - val_loss: 0.0840 - val_acc: 0.9649\n",
      "Epoch 15/20\n",
      "455/455 [==============================] - 0s 168us/step - loss: 0.0238 - acc: 0.9934 - val_loss: 0.0824 - val_acc: 0.9649\n",
      "Epoch 16/20\n",
      "455/455 [==============================] - 0s 168us/step - loss: 0.0229 - acc: 0.9934 - val_loss: 0.0841 - val_acc: 0.9649\n",
      "Epoch 17/20\n",
      "455/455 [==============================] - 0s 192us/step - loss: 0.0221 - acc: 0.9934 - val_loss: 0.0834 - val_acc: 0.9649\n",
      "Epoch 18/20\n",
      "455/455 [==============================] - 0s 155us/step - loss: 0.0209 - acc: 0.9934 - val_loss: 0.0840 - val_acc: 0.9649\n",
      "Epoch 19/20\n",
      "455/455 [==============================] - 0s 160us/step - loss: 0.0204 - acc: 0.9956 - val_loss: 0.0836 - val_acc: 0.9649\n",
      "Epoch 20/20\n",
      "455/455 [==============================] - 0s 179us/step - loss: 0.0197 - acc: 0.9956 - val_loss: 0.0844 - val_acc: 0.9649\n"
     ]
    },
    {
     "data": {
      "text/plain": [
       "<keras.callbacks.History at 0x1229404a8>"
      ]
     },
     "execution_count": 9,
     "metadata": {},
     "output_type": "execute_result"
    }
   ],
   "source": [
    "model.fit(x_train, y_train,epochs = 20, batch_size = 20,validation_data=[x_test, y_test]) #batch_size for batch Gradient Descent\n",
    "#validation_data=[x_test, y_test] #we can also pass validation data to check accuracy on it "
   ]
  },
  {
   "cell_type": "code",
   "execution_count": 10,
   "metadata": {},
   "outputs": [
    {
     "data": {
      "text/plain": [
       "array([[  1.24129047e-05],\n",
       "       [  9.65616822e-01],\n",
       "       [  9.99578536e-01],\n",
       "       [  9.93028581e-01],\n",
       "       [  9.99985695e-01],\n",
       "       [  9.99913812e-01],\n",
       "       [  9.99967456e-01],\n",
       "       [  9.99946952e-01],\n",
       "       [  9.99976158e-01],\n",
       "       [  9.99999881e-01],\n",
       "       [  9.40695107e-01],\n",
       "       [  9.77465391e-01],\n",
       "       [  9.99990582e-01],\n",
       "       [  1.12287275e-01],\n",
       "       [  6.95733070e-01],\n",
       "       [  5.77687615e-06],\n",
       "       [  9.99999046e-01],\n",
       "       [  4.80028461e-09],\n",
       "       [  1.72554621e-06],\n",
       "       [  6.65322696e-14],\n",
       "       [  4.42141982e-06],\n",
       "       [  4.12315421e-05],\n",
       "       [  9.99425888e-01],\n",
       "       [  9.99121487e-01],\n",
       "       [  1.74778577e-07],\n",
       "       [  9.98489022e-01],\n",
       "       [  9.99882817e-01],\n",
       "       [  3.70110414e-04],\n",
       "       [  9.99448478e-01],\n",
       "       [  1.14955501e-09],\n",
       "       [  9.99643683e-01],\n",
       "       [  1.94933477e-07],\n",
       "       [  9.61311936e-01],\n",
       "       [  1.45796957e-05],\n",
       "       [  9.99999642e-01],\n",
       "       [  1.08841683e-04],\n",
       "       [  9.81187880e-01],\n",
       "       [  2.82790529e-06],\n",
       "       [  9.97834742e-01],\n",
       "       [  2.53901351e-04],\n",
       "       [  4.24434990e-02],\n",
       "       [  9.99977946e-01],\n",
       "       [  1.06762964e-02],\n",
       "       [  9.99958992e-01],\n",
       "       [  9.94545579e-01],\n",
       "       [  9.45903859e-12],\n",
       "       [  9.99999881e-01],\n",
       "       [  9.77505028e-01],\n",
       "       [  9.99986768e-01],\n",
       "       [  6.65984885e-08],\n",
       "       [  9.30710786e-10],\n",
       "       [  4.79385369e-02],\n",
       "       [  3.38021806e-07],\n",
       "       [  9.99722302e-01],\n",
       "       [  9.99595702e-01],\n",
       "       [  9.99695420e-01],\n",
       "       [  9.99859333e-01],\n",
       "       [  9.95373070e-01],\n",
       "       [  9.91187572e-01],\n",
       "       [  8.56246802e-15],\n",
       "       [  2.88636633e-03],\n",
       "       [  6.62255159e-04],\n",
       "       [  9.99992967e-01],\n",
       "       [  9.99940038e-01],\n",
       "       [  1.31534563e-07],\n",
       "       [  6.63701832e-01],\n",
       "       [  6.99413823e-22],\n",
       "       [  1.66350382e-08],\n",
       "       [  2.34263342e-09],\n",
       "       [  9.99878526e-01],\n",
       "       [  5.23854256e-01],\n",
       "       [  2.36892328e-09],\n",
       "       [  9.99346793e-01],\n",
       "       [  2.65422255e-01],\n",
       "       [  1.94144714e-10],\n",
       "       [  9.83018160e-01],\n",
       "       [  9.99991298e-01],\n",
       "       [  9.99463379e-01],\n",
       "       [  9.99875665e-01],\n",
       "       [  9.99990702e-01],\n",
       "       [  3.89610138e-03],\n",
       "       [  3.07821534e-18],\n",
       "       [  7.18723392e-09],\n",
       "       [  9.99989867e-01],\n",
       "       [  2.97989987e-04],\n",
       "       [  9.99947190e-01],\n",
       "       [  9.99961615e-01],\n",
       "       [  9.99999642e-01],\n",
       "       [  5.36796165e-07],\n",
       "       [  7.55100921e-18],\n",
       "       [  9.99996424e-01],\n",
       "       [  9.02927220e-02],\n",
       "       [  1.84301049e-01],\n",
       "       [  3.22723515e-10],\n",
       "       [  9.99962449e-01],\n",
       "       [  9.99606788e-01],\n",
       "       [  7.83244563e-12],\n",
       "       [  9.98722017e-01],\n",
       "       [  9.97349977e-01],\n",
       "       [  9.99784052e-01],\n",
       "       [  1.00000000e+00],\n",
       "       [  9.98838484e-01],\n",
       "       [  9.99587357e-01],\n",
       "       [  9.46808517e-01],\n",
       "       [  2.54931098e-08],\n",
       "       [  9.99998808e-01],\n",
       "       [  1.43887723e-11],\n",
       "       [  7.78743923e-01],\n",
       "       [  6.53031826e-01],\n",
       "       [  8.65766406e-01],\n",
       "       [  9.94468570e-01],\n",
       "       [  1.95864391e-08],\n",
       "       [  2.94921534e-07],\n",
       "       [  8.41554761e-01]], dtype=float32)"
      ]
     },
     "execution_count": 10,
     "metadata": {},
     "output_type": "execute_result"
    }
   ],
   "source": [
    "predictions = model.predict(x_test)\n",
    "predictions"
   ]
  },
  {
   "cell_type": "code",
   "execution_count": 11,
   "metadata": {},
   "outputs": [
    {
     "name": "stdout",
     "output_type": "stream",
     "text": [
      "114/114 [==============================] - 0s 79us/step\n"
     ]
    },
    {
     "data": {
      "text/plain": [
       "[0.084390279363121906, 0.96491228174744992]"
      ]
     },
     "execution_count": 11,
     "metadata": {},
     "output_type": "execute_result"
    }
   ],
   "source": [
    "score = model.evaluate(x_test, y_test)\n",
    "score"
   ]
  },
  {
   "cell_type": "code",
   "execution_count": null,
   "metadata": {
    "collapsed": true
   },
   "outputs": [],
   "source": []
  }
 ],
 "metadata": {
  "kernelspec": {
   "display_name": "Python 3",
   "language": "python",
   "name": "python3"
  },
  "language_info": {
   "codemirror_mode": {
    "name": "ipython",
    "version": 3
   },
   "file_extension": ".py",
   "mimetype": "text/x-python",
   "name": "python",
   "nbconvert_exporter": "python",
   "pygments_lexer": "ipython3",
   "version": "3.6.1"
  }
 },
 "nbformat": 4,
 "nbformat_minor": 2
}
