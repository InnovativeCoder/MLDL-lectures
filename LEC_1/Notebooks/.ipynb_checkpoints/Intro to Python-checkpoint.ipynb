{
 "cells": [
  {
   "cell_type": "markdown",
   "metadata": {},
   "source": [
    "## Intro to Jupyter\n",
    "\n",
    "we can write markdown or python code in our cells. You can choose accordingly in the dropdown above. "
   ]
  },
  {
   "cell_type": "code",
   "execution_count": null,
   "metadata": {},
   "outputs": [],
   "source": [
    "a = 10\n",
    "b = 12.3\n",
    "print(a, end=' ')\n",
    "print(b)\n",
    "print(12)"
   ]
  },
  {
   "cell_type": "code",
   "execution_count": null,
   "metadata": {},
   "outputs": [],
   "source": [
    "a = a + 10\n",
    "a = a - 10\n",
    "print(a)\n",
    "print(b)"
   ]
  },
  {
   "cell_type": "code",
   "execution_count": null,
   "metadata": {},
   "outputs": [],
   "source": [
    "print(type(a))\n",
    "type(b)"
   ]
  },
  {
   "cell_type": "code",
   "execution_count": null,
   "metadata": {},
   "outputs": [],
   "source": [
    "#operators \n",
    "print(a + 10)\n",
    "print(a - 10)\n",
    "print(a * b)\n",
    "print(a ** 2)\n",
    "print(a / b)\n",
    "print(a // b)"
   ]
  },
  {
   "cell_type": "code",
   "execution_count": null,
   "metadata": {},
   "outputs": [],
   "source": [
    "#STrings\n",
    "a = \"def\"\n",
    "print(type(a))\n",
    "a = 'def'\n",
    "print(type(a))\n",
    "a =\"this is a string\"\n",
    "\n",
    "#a =''' jajkjskajdjskajd '''"
   ]
  },
  {
   "cell_type": "code",
   "execution_count": null,
   "metadata": {},
   "outputs": [],
   "source": [
    "#typical string operations\n",
    "print(len(a))\n",
    "print(type(a))\n",
    "print(a[3])\n",
    "#string are immutable\n",
    "#a[2] = 's' \n",
    "b = \" Innovative\" #valid as we aren't changing the string\n",
    "c = a + b\n",
    "print(c)\n",
    "# d = a + 2 it is not possible\n",
    "print(a)"
   ]
  },
  {
   "cell_type": "code",
   "execution_count": null,
   "metadata": {},
   "outputs": [],
   "source": [
    "a = \"  abc  \"\n",
    "a = a.upper()\n",
    "print(a.isupper())\n",
    "print(a.lower())\n",
    "print(a.strip())\n",
    "print(a.isalpha())"
   ]
  },
  {
   "cell_type": "code",
   "execution_count": null,
   "metadata": {},
   "outputs": [],
   "source": [
    "#User input\n",
    "a = (input(\"Please enter a number\"))"
   ]
  },
  {
   "cell_type": "code",
   "execution_count": null,
   "metadata": {},
   "outputs": [],
   "source": [
    "type(a)"
   ]
  },
  {
   "cell_type": "code",
   "execution_count": null,
   "metadata": {},
   "outputs": [],
   "source": [
    "a"
   ]
  },
  {
   "cell_type": "code",
   "execution_count": null,
   "metadata": {},
   "outputs": [],
   "source": [
    "#negative indexing\n",
    "a =\"abc\"\n",
    "print(a[0])\n",
    "print(a[-3])\n",
    "print(a[-1])"
   ]
  },
  {
   "cell_type": "code",
   "execution_count": null,
   "metadata": {},
   "outputs": [],
   "source": [
    "#slicing\n",
    "s = \"abcdefg\"\n",
    "print(s[1:3])\n",
    "print(s[-3:-1])\n",
    "print(s[3:])"
   ]
  },
  {
   "cell_type": "code",
   "execution_count": null,
   "metadata": {},
   "outputs": [],
   "source": [
    "#Tuple\n",
    "t = (1,2,3)\n",
    "m = (1,\"datatype\",3.4)\n",
    "print(type(t), type(m))\n",
    "print(t[0])\n",
    "print(t[1:3])\n",
    "#tuples are immutable\n",
    "#t[0] =25  #INVALID"
   ]
  },
  {
   "cell_type": "code",
   "execution_count": null,
   "metadata": {},
   "outputs": [],
   "source": [
    "#operations on tuple\n",
    "print(t + m)\n",
    "print(t * 3)\n",
    "print(1 in t)\n",
    "print(1 in m)\n",
    "print(2 in m)"
   ]
  },
  {
   "cell_type": "code",
   "execution_count": null,
   "metadata": {
    "collapsed": true
   },
   "outputs": [],
   "source": []
  }
 ],
 "metadata": {
  "kernelspec": {
   "display_name": "Python 3",
   "language": "python",
   "name": "python3"
  },
  "language_info": {
   "codemirror_mode": {
    "name": "ipython",
    "version": 3
   },
   "file_extension": ".py",
   "mimetype": "text/x-python",
   "name": "python",
   "nbconvert_exporter": "python",
   "pygments_lexer": "ipython3",
   "version": "3.6.1"
  }
 },
 "nbformat": 4,
 "nbformat_minor": 2
}
