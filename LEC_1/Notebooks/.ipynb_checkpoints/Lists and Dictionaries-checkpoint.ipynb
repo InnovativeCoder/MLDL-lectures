{
 "cells": [
  {
   "cell_type": "code",
   "execution_count": 6,
   "metadata": {},
   "outputs": [
    {
     "data": {
      "text/plain": [
       "list"
      ]
     },
     "execution_count": 6,
     "metadata": {},
     "output_type": "execute_result"
    }
   ],
   "source": [
    "#Lists\n",
    "#creating lists\n",
    "a = [1,2,3,\"str\"]\n",
    "type(a)"
   ]
  },
  {
   "cell_type": "code",
   "execution_count": 2,
   "metadata": {},
   "outputs": [
    {
     "data": {
      "text/plain": [
       "[1, 2, 3]"
      ]
     },
     "execution_count": 2,
     "metadata": {},
     "output_type": "execute_result"
    }
   ],
   "source": [
    "a"
   ]
  },
  {
   "cell_type": "code",
   "execution_count": 3,
   "metadata": {},
   "outputs": [
    {
     "data": {
      "text/plain": [
       "[1, 2, 3]"
      ]
     },
     "execution_count": 3,
     "metadata": {},
     "output_type": "execute_result"
    }
   ],
   "source": [
    "a1 = list(a)\n",
    "a1"
   ]
  },
  {
   "cell_type": "code",
   "execution_count": 4,
   "metadata": {},
   "outputs": [
    {
     "name": "stdout",
     "output_type": "stream",
     "text": [
      "[1, 2, 3]\n",
      "[0, 0, 0, 0, 0, 0, 0, 0, 0, 0]\n"
     ]
    },
    {
     "data": {
      "text/plain": [
       "[0, 1, 4, 9, 16, 25, 36, 49, 64, 81]"
      ]
     },
     "execution_count": 4,
     "metadata": {},
     "output_type": "execute_result"
    }
   ],
   "source": [
    "a2 = list(a)\n",
    "print(a2)\n",
    "\n",
    "a4 = [0 for i in range(10)]\n",
    "print(a4)\n",
    "\n",
    "a5 = [i * i for i in range(10)]\n",
    "a5"
   ]
  },
  {
   "cell_type": "code",
   "execution_count": 8,
   "metadata": {},
   "outputs": [
    {
     "data": {
      "text/plain": [
       "[1, 2, 'aa', True]"
      ]
     },
     "execution_count": 8,
     "metadata": {},
     "output_type": "execute_result"
    }
   ],
   "source": [
    "a6 = [1,2,\"aa\", True]\n",
    "a6"
   ]
  },
  {
   "cell_type": "code",
   "execution_count": 10,
   "metadata": {},
   "outputs": [
    {
     "name": "stdout",
     "output_type": "stream",
     "text": [
      "1\n",
      "2\n",
      "aa\n",
      "True\n"
     ]
    }
   ],
   "source": [
    "# SOme operations on lists\n",
    "a[0]\n",
    "a[-1]\n",
    "type(a[1:3])\n",
    "len(a5)\n",
    "\n",
    "#Fast iterations\n",
    "for i in a6:\n",
    "    print(i)"
   ]
  },
  {
   "cell_type": "code",
   "execution_count": 11,
   "metadata": {},
   "outputs": [
    {
     "name": "stdout",
     "output_type": "stream",
     "text": [
      "['a', 'bss', 'c', 'd']\n",
      "['a', 'vd', 'dd', 'd']\n",
      " 1 2 3 4\n",
      "[1, 2, 3, 4]\n",
      " 1 2 4 6 8 \n"
     ]
    },
    {
     "data": {
      "text/plain": [
       "[1, 2, 4, 6, 8]"
      ]
     },
     "execution_count": 11,
     "metadata": {},
     "output_type": "execute_result"
    }
   ],
   "source": [
    "str = \"a,bss,c,d\"\n",
    "print(str.split(\",\"))\n",
    "\n",
    "str2 = \"a vd dd d\"\n",
    "print(str2.split(\" \"))\n",
    "\n",
    "str = input().strip()\n",
    "list = str.split(\" \")\n",
    "\n",
    "# a little more explained code\n",
    "for i in range(0, len(list)):\n",
    "    list[i] = int(list[i])\n",
    "    \n",
    "print(list)\n",
    "\n",
    "#One line for taking array input\n",
    "l = [int(x) for x in input().strip().split(\" \")]\n",
    "l"
   ]
  },
  {
   "cell_type": "code",
   "execution_count": 12,
   "metadata": {},
   "outputs": [
    {
     "name": "stdout",
     "output_type": "stream",
     "text": [
      "[1, 'ac', 3, 2]\n",
      "[1, 23, 'ac', 3, 2]\n"
     ]
    },
    {
     "data": {
      "text/plain": [
       "[1, 23, 'ac', 3, 2, 1, 2, 3]"
      ]
     },
     "execution_count": 12,
     "metadata": {},
     "output_type": "execute_result"
    }
   ],
   "source": [
    "#add elements in a list\n",
    "l = [1,\"ac\", 3]\n",
    "l.append(2) #appends meand insert at end\n",
    "print(l)\n",
    "\n",
    "l.insert(1,23)\n",
    "print(l)\n",
    "\n",
    "l2 = [1,2,3]\n",
    "l.extend(l2)\n",
    "l"
   ]
  },
  {
   "cell_type": "code",
   "execution_count": 13,
   "metadata": {},
   "outputs": [
    {
     "name": "stdout",
     "output_type": "stream",
     "text": [
      "[1, 23, 'ac', 3, 2, 1, 2]\n",
      "[1, 23, 3, 2, 1, 2]\n",
      "[2, 1, 23, 3, 2, 1, 2]\n",
      "[1, 23, 3, 2, 1, 2]\n"
     ]
    },
    {
     "data": {
      "text/plain": [
       "[23, 3, 2, 1, 2]"
      ]
     },
     "execution_count": 13,
     "metadata": {},
     "output_type": "execute_result"
    }
   ],
   "source": [
    "#deleting elements\n",
    "l.pop() #without arguement it will remove last element\n",
    "print(l)\n",
    "\n",
    "l.pop(2) #removes element at index 2\n",
    "print(l)\n",
    "\n",
    "l.insert(0,2)\n",
    "print(l)\n",
    "\n",
    "l.remove(2) #remove that partivular element\n",
    "print(l)\n",
    "\n",
    "\n",
    "del l[0] # delete at index 0\n",
    "l"
   ]
  },
  {
   "cell_type": "code",
   "execution_count": 15,
   "metadata": {},
   "outputs": [
    {
     "name": "stdout",
     "output_type": "stream",
     "text": [
      "[1, 2, 3, 1, 2, 3]\n",
      "[1, 2, 3, 1, 2, 3]\n",
      "[1, 2, 3, 1, 2, 3, 1, 2, 3]\n"
     ]
    }
   ],
   "source": [
    "l = [1,2,3]\n",
    "#l+2 #Can't do that\n",
    "\n",
    "print(l+l)\n",
    "print(l*2) # Copy 2 times\n",
    "print(l*3) # Copy 3 times"
   ]
  },
  {
   "cell_type": "code",
   "execution_count": 16,
   "metadata": {},
   "outputs": [
    {
     "name": "stdout",
     "output_type": "stream",
     "text": [
      "[1, 2, 3, 4, 4, 7, 8]\n",
      "2\n",
      "1\n",
      "[8, 7, 4, 4, 3, 2, 1]\n"
     ]
    },
    {
     "data": {
      "text/plain": [
       "True"
      ]
     },
     "execution_count": 16,
     "metadata": {},
     "output_type": "execute_result"
    }
   ],
   "source": [
    "l = [2,3,4,1,7,4,8]\n",
    "l.sort()\n",
    "print(l)\n",
    "\n",
    "print(l.count(4))\n",
    "print(l.index(2))\n",
    "l.reverse()\n",
    "print(l)\n",
    "\n",
    "7 in l #return boolean, if present or not"
   ]
  },
  {
   "cell_type": "code",
   "execution_count": 17,
   "metadata": {},
   "outputs": [
    {
     "data": {
      "text/plain": [
       "{23: 4, 'str': 345}"
      ]
     },
     "execution_count": 17,
     "metadata": {},
     "output_type": "execute_result"
    }
   ],
   "source": [
    "# Dictionaries - key value pairs\n",
    "\n",
    "d ={}\n",
    "d[23] = 4\n",
    "d[\"str\"]  = 345\n",
    "d"
   ]
  },
  {
   "cell_type": "code",
   "execution_count": 18,
   "metadata": {},
   "outputs": [
    {
     "data": {
      "text/plain": [
       "{23: 4, 'str1': 332}"
      ]
     },
     "execution_count": 18,
     "metadata": {},
     "output_type": "execute_result"
    }
   ],
   "source": [
    "d = {23 : 4, \"str1\": 332}\n",
    "d\n",
    "#dictionary keys are immutable"
   ]
  },
  {
   "cell_type": "code",
   "execution_count": 19,
   "metadata": {},
   "outputs": [
    {
     "name": "stdout",
     "output_type": "stream",
     "text": [
      "23:4\n",
      "str1:332\n"
     ]
    }
   ],
   "source": [
    "#iterating over a dictionary\n",
    "for i in d:\n",
    "    print(i, end = \":\")\n",
    "    print(d[i])"
   ]
  },
  {
   "cell_type": "code",
   "execution_count": 20,
   "metadata": {},
   "outputs": [
    {
     "data": {
      "text/plain": [
       "{'str1': 332}"
      ]
     },
     "execution_count": 20,
     "metadata": {},
     "output_type": "execute_result"
    }
   ],
   "source": [
    "#deleting a pair from dictionary\n",
    "del d[23]\n",
    "d"
   ]
  },
  {
   "cell_type": "code",
   "execution_count": 21,
   "metadata": {},
   "outputs": [
    {
     "data": {
      "text/plain": [
       "True"
      ]
     },
     "execution_count": 21,
     "metadata": {},
     "output_type": "execute_result"
    }
   ],
   "source": [
    "d1 = {}\n",
    "d2 = {}\n",
    "d1 == d2 # comparing two dict"
   ]
  },
  {
   "cell_type": "code",
   "execution_count": 22,
   "metadata": {},
   "outputs": [
    {
     "name": "stdout",
     "output_type": "stream",
     "text": [
      "0\n",
      "{25: 5}\n",
      "{}\n"
     ]
    },
    {
     "data": {
      "text/plain": [
       "False"
      ]
     },
     "execution_count": 22,
     "metadata": {},
     "output_type": "execute_result"
    }
   ],
   "source": [
    "print(len(d1))\n",
    "d1[25] = 5\n",
    "print(d1)\n",
    "d1.clear() #removesevrything from dict\n",
    "print(d1)\n",
    "\n",
    "25 in d2 #check key present or not"
   ]
  },
  {
   "cell_type": "code",
   "execution_count": 23,
   "metadata": {},
   "outputs": [
    {
     "name": "stdout",
     "output_type": "stream",
     "text": [
      "[[1, 2, 3], [4, 5, 6]]\n"
     ]
    },
    {
     "data": {
      "text/plain": [
       "2"
      ]
     },
     "execution_count": 23,
     "metadata": {},
     "output_type": "execute_result"
    }
   ],
   "source": [
    "#2D lists\n",
    "l =[[1,2,3],[4,5,6]]\n",
    "print(l)\n",
    "l[0][1]"
   ]
  },
  {
   "cell_type": "code",
   "execution_count": null,
   "metadata": {
    "collapsed": true
   },
   "outputs": [],
   "source": []
  },
  {
   "cell_type": "code",
   "execution_count": null,
   "metadata": {
    "collapsed": true
   },
   "outputs": [],
   "source": []
  }
 ],
 "metadata": {
  "kernelspec": {
   "display_name": "Python 3",
   "language": "python",
   "name": "python3"
  },
  "language_info": {
   "codemirror_mode": {
    "name": "ipython",
    "version": 3
   },
   "file_extension": ".py",
   "mimetype": "text/x-python",
   "name": "python",
   "nbconvert_exporter": "python",
   "pygments_lexer": "ipython3",
   "version": "3.6.1"
  }
 },
 "nbformat": 4,
 "nbformat_minor": 2
}
