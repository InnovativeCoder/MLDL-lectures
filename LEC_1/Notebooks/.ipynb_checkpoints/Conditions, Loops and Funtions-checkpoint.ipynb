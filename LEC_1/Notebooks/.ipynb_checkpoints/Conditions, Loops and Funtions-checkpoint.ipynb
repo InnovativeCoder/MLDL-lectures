{
 "cells": [
  {
   "cell_type": "code",
   "execution_count": 1,
   "metadata": {},
   "outputs": [
    {
     "name": "stdout",
     "output_type": "stream",
     "text": [
      "<class 'bool'> <class 'bool'>\n"
     ]
    }
   ],
   "source": [
    "#boolean datatypes\n",
    "a = True\n",
    "\n",
    "b = False\n",
    "\n",
    "print(type(b), type(a))"
   ]
  },
  {
   "cell_type": "code",
   "execution_count": null,
   "metadata": {},
   "outputs": [],
   "source": [
    "#Relational operators\n",
    "x = 10\n",
    "y = 20\n",
    "print(x > y)\n",
    "print(x < y)\n",
    "print(x >= y)\n",
    "print(x <= y)\n",
    "print(x == y)\n",
    "print(x != y)"
   ]
  },
  {
   "cell_type": "code",
   "execution_count": null,
   "metadata": {},
   "outputs": [],
   "source": [
    "#Logical operators\n",
    "x = 10\n",
    "y = 20\n",
    "z  =30\n",
    "print(x < y and x <z)\n",
    "print(x<y or x>z)"
   ]
  },
  {
   "cell_type": "code",
   "execution_count": null,
   "metadata": {},
   "outputs": [],
   "source": [
    "x = 30\n",
    "y = 20\n",
    "if x<y :\n",
    "    print(x)\n",
    "else :\n",
    "    print(y)"
   ]
  },
  {
   "cell_type": "code",
   "execution_count": null,
   "metadata": {},
   "outputs": [],
   "source": [
    "z = 35\n",
    "#Printing Largest NUmber\n",
    "if x>y and x>z:\n",
    "    print(x)\n",
    "elif y>z and y>x :\n",
    "    print(y)\n",
    "else : \n",
    "    print(z)"
   ]
  },
  {
   "cell_type": "code",
   "execution_count": null,
   "metadata": {},
   "outputs": [],
   "source": [
    "#while loop\n",
    "n = int(input())\n",
    "i = 1\n",
    "while(i <= n):\n",
    "    print(i, end =\" \")\n",
    "    i = i + 1\n",
    "print()\n",
    "print(\"done\")"
   ]
  },
  {
   "cell_type": "code",
   "execution_count": null,
   "metadata": {},
   "outputs": [],
   "source": [
    "n = int(input())\n",
    "\n",
    "#for i in range(1,n):\n",
    "#    print(i)\n",
    "    \n",
    "for i in range(0,n,2):\n",
    "    print(i)"
   ]
  },
  {
   "cell_type": "code",
   "execution_count": null,
   "metadata": {},
   "outputs": [],
   "source": [
    "#prime numbers\n",
    "n = int(input())\n",
    "prime = True\n",
    "for i in range(2,n):\n",
    "    if n % i == 0:\n",
    "        prime = False\n",
    "        break\n",
    "        \n",
    "if prime:\n",
    "    print(\"Prime\")\n",
    "else:\n",
    "    print(\"Not Prime\")"
   ]
  },
  {
   "cell_type": "code",
   "execution_count": null,
   "metadata": {},
   "outputs": [],
   "source": [
    "#fast iterations\n",
    "a = \"abcd\"\n",
    "for s in a:\n",
    "    print(s)\n",
    "    \n",
    "a = (1,2,3)\n",
    "for b in a:\n",
    "    print(b)"
   ]
  },
  {
   "cell_type": "code",
   "execution_count": null,
   "metadata": {},
   "outputs": [],
   "source": [
    "def sum(a,b):\n",
    "    z = a+b\n",
    "    return z\n",
    "\n",
    "\n",
    "x = 10\n",
    "y =20\n",
    "z = x + y\n",
    "a = sum(x,y)\n",
    "print(z)\n",
    "print(a)"
   ]
  },
  {
   "cell_type": "code",
   "execution_count": null,
   "metadata": {},
   "outputs": [],
   "source": [
    "#Default arguements in a function\n",
    "def power(x,y=2):\n",
    "    return x**y\n",
    "\n",
    "a = 10\n",
    "b = 4\n",
    "print(power(a,b))\n",
    "print(power(10,4))\n",
    "print(power(10))"
   ]
  },
  {
   "cell_type": "code",
   "execution_count": null,
   "metadata": {},
   "outputs": [],
   "source": [
    "def sum(a, b = 1, c = 2):\n",
    "    return a+ b+ c\n",
    "\n",
    "print(sum(1,2,3))\n",
    "print(sum(1,2))\n",
    "print(sum(1))\n"
   ]
  },
  {
   "cell_type": "code",
   "execution_count": null,
   "metadata": {},
   "outputs": [],
   "source": [
    "print(\"abcd\", end=\" \")\n",
    "print(\"bcde\")"
   ]
  },
  {
   "cell_type": "markdown",
   "metadata": {
    "collapsed": true
   },
   "source": [
    "\n"
   ]
  },
  {
   "cell_type": "code",
   "execution_count": null,
   "metadata": {},
   "outputs": [],
   "source": [
    "#variable number of inputs to a function\n",
    "def sum_variable(a,b,*more):\n",
    "    ans = a+b\n",
    "    for i in more:\n",
    "        ans += i\n",
    "    return ans\n",
    "    \n",
    "    \n",
    "sum_variable(10,12,13,14,2,3,4,5,10)"
   ]
  },
  {
   "cell_type": "code",
   "execution_count": null,
   "metadata": {},
   "outputs": [],
   "source": [
    "#more than one return value\n",
    "def dummy(a,b):\n",
    "    return a+b, a-b\n",
    "\n",
    "sum1, difference = dummy(10,12)\n",
    "print(sum1)\n",
    "print(difference)\n",
    "\n",
    "a = dummy(10,12)\n",
    "print(a)\n",
    "\n",
    "sum12, _ = dummy(10,12)\n",
    "print(sum12)\n"
   ]
  },
  {
   "cell_type": "code",
   "execution_count": null,
   "metadata": {
    "collapsed": true
   },
   "outputs": [],
   "source": []
  },
  {
   "cell_type": "code",
   "execution_count": null,
   "metadata": {
    "collapsed": true
   },
   "outputs": [],
   "source": []
  },
  {
   "cell_type": "code",
   "execution_count": null,
   "metadata": {
    "collapsed": true
   },
   "outputs": [],
   "source": []
  }
 ],
 "metadata": {
  "kernelspec": {
   "display_name": "Python 3",
   "language": "python",
   "name": "python3"
  },
  "language_info": {
   "codemirror_mode": {
    "name": "ipython",
    "version": 3
   },
   "file_extension": ".py",
   "mimetype": "text/x-python",
   "name": "python",
   "nbconvert_exporter": "python",
   "pygments_lexer": "ipython3",
   "version": "3.6.1"
  }
 },
 "nbformat": 4,
 "nbformat_minor": 2
}
