{
 "cells": [
  {
   "cell_type": "markdown",
   "metadata": {},
   "source": [
    "## Intro to Jupyter\n",
    "\n",
    "* we can write markdown or python code in our cells. You can choose accordingly in the dropdown above. "
   ]
  },
  {
   "cell_type": "code",
   "execution_count": 7,
   "metadata": {},
   "outputs": [
    {
     "name": "stdout",
     "output_type": "stream",
     "text": [
      "10 12.3\n"
     ]
    },
    {
     "data": {
      "text/plain": [
       "(12, 13, 12.3, 10)"
      ]
     },
     "execution_count": 7,
     "metadata": {},
     "output_type": "execute_result"
    }
   ],
   "source": [
    "a = 10\n",
    "b = 12.3\n",
    "print(a, end=' ')\n",
    "print(b)\n",
    "#print(12)\n",
    "12 , 13 , b ,a"
   ]
  },
  {
   "cell_type": "code",
   "execution_count": 8,
   "metadata": {},
   "outputs": [
    {
     "name": "stdout",
     "output_type": "stream",
     "text": [
      "10\n",
      "12.3\n"
     ]
    }
   ],
   "source": [
    "a = a + 10\n",
    "a = a - 10\n",
    "print(a)\n",
    "print(b)"
   ]
  },
  {
   "cell_type": "code",
   "execution_count": 9,
   "metadata": {},
   "outputs": [
    {
     "name": "stdout",
     "output_type": "stream",
     "text": [
      "<class 'int'>\n"
     ]
    },
    {
     "data": {
      "text/plain": [
       "float"
      ]
     },
     "execution_count": 9,
     "metadata": {},
     "output_type": "execute_result"
    }
   ],
   "source": [
    "print(type(a))\n",
    "type(b)"
   ]
  },
  {
   "cell_type": "code",
   "execution_count": 10,
   "metadata": {},
   "outputs": [
    {
     "name": "stdout",
     "output_type": "stream",
     "text": [
      "20\n",
      "0\n",
      "123.0\n",
      "100\n",
      "0.8130081300813008\n",
      "0.0\n"
     ]
    }
   ],
   "source": [
    "#operators \n",
    "print(a + 10)\n",
    "print(a - 10)\n",
    "print(a * b)\n",
    "print(a ** 2)\n",
    "print(a / b)\n",
    "print(a // b)"
   ]
  },
  {
   "cell_type": "code",
   "execution_count": 13,
   "metadata": {},
   "outputs": [
    {
     "name": "stdout",
     "output_type": "stream",
     "text": [
      "<class 'str'>\n",
      "<class 'str'>\n"
     ]
    },
    {
     "data": {
      "text/plain": [
       "' jajkjskajdjskajd '"
      ]
     },
     "execution_count": 13,
     "metadata": {},
     "output_type": "execute_result"
    }
   ],
   "source": [
    "#Strings\n",
    "a = \"def\"\n",
    "print(type(a))\n",
    "a = 'def'\n",
    "print(type(a))\n",
    "a =\"this is a string\"\n",
    "\n",
    "a =''' jajkjskajdjskajd '''\n",
    "a"
   ]
  },
  {
   "cell_type": "code",
   "execution_count": 14,
   "metadata": {},
   "outputs": [
    {
     "name": "stdout",
     "output_type": "stream",
     "text": [
      "18\n",
      "<class 'str'>\n",
      "j\n",
      " jajkjskajdjskajd  Innovative\n",
      " jajkjskajdjskajd \n"
     ]
    }
   ],
   "source": [
    "#typical string operations\n",
    "print(len(a))\n",
    "print(type(a))\n",
    "print(a[3])\n",
    "#string are immutable\n",
    "#a[2] = 's' \n",
    "b = \" Innovative\" #valid as we aren't changing the string\n",
    "c = a + b\n",
    "print(c)\n",
    "# d = a + 2 it is not possible\n",
    "print(a)"
   ]
  },
  {
   "cell_type": "code",
   "execution_count": 15,
   "metadata": {},
   "outputs": [
    {
     "name": "stdout",
     "output_type": "stream",
     "text": [
      "True\n",
      "  abc  \n",
      "ABC\n",
      "False\n"
     ]
    }
   ],
   "source": [
    "a = \"  abc  \"\n",
    "a = a.upper()\n",
    "print(a.isupper())\n",
    "print(a.lower())\n",
    "print(a.strip())\n",
    "print(a.isalpha())"
   ]
  },
  {
   "cell_type": "code",
   "execution_count": 17,
   "metadata": {},
   "outputs": [
    {
     "name": "stdout",
     "output_type": "stream",
     "text": [
      "Please enter a number200\n"
     ]
    },
    {
     "data": {
      "text/plain": [
       "'200'"
      ]
     },
     "execution_count": 17,
     "metadata": {},
     "output_type": "execute_result"
    }
   ],
   "source": [
    "#User input\n",
    "a = (input(\"Please enter a number\"))\n",
    "a"
   ]
  },
  {
   "cell_type": "code",
   "execution_count": 18,
   "metadata": {},
   "outputs": [
    {
     "data": {
      "text/plain": [
       "str"
      ]
     },
     "execution_count": 18,
     "metadata": {},
     "output_type": "execute_result"
    }
   ],
   "source": [
    "type(a)"
   ]
  },
  {
   "cell_type": "code",
   "execution_count": 20,
   "metadata": {},
   "outputs": [
    {
     "data": {
      "text/plain": [
       "int"
      ]
     },
     "execution_count": 20,
     "metadata": {},
     "output_type": "execute_result"
    }
   ],
   "source": [
    "a\n",
    "a = int(a)\n",
    "type(a)"
   ]
  },
  {
   "cell_type": "code",
   "execution_count": 21,
   "metadata": {},
   "outputs": [
    {
     "name": "stdout",
     "output_type": "stream",
     "text": [
      "a\n",
      "a\n",
      "c\n"
     ]
    }
   ],
   "source": [
    "#negative indexing\n",
    "a =\"abc\"\n",
    "print(a[0])\n",
    "print(a[-3])\n",
    "print(a[-1])"
   ]
  },
  {
   "cell_type": "code",
   "execution_count": 22,
   "metadata": {},
   "outputs": [
    {
     "name": "stdout",
     "output_type": "stream",
     "text": [
      "bc\n",
      "ef\n",
      "defg\n"
     ]
    }
   ],
   "source": [
    "#slicing\n",
    "s = \"abcdefg\"\n",
    "print(s[1:3])\n",
    "print(s[-3:-1])\n",
    "print(s[3:])"
   ]
  },
  {
   "cell_type": "code",
   "execution_count": 25,
   "metadata": {},
   "outputs": [
    {
     "name": "stdout",
     "output_type": "stream",
     "text": [
      "<class 'tuple'> <class 'tuple'>\n",
      "1\n",
      "(2, 3)\n"
     ]
    }
   ],
   "source": [
    "#Tuple\n",
    "t = (1,2,3)\n",
    "m = (1,\"datatype\",3.4)\n",
    "print(type(t), type(m))\n",
    "print(t[0])\n",
    "print(t[1:3])\n",
    "#tuples are immutable\n",
    "#t[0] =25  #INVALID"
   ]
  },
  {
   "cell_type": "code",
   "execution_count": 26,
   "metadata": {},
   "outputs": [
    {
     "name": "stdout",
     "output_type": "stream",
     "text": [
      "(1, 2, 3, 1, 'datatype', 3.4)\n",
      "(1, 2, 3, 1, 2, 3, 1, 2, 3)\n",
      "True\n",
      "True\n",
      "False\n"
     ]
    }
   ],
   "source": [
    "#operations on tuple\n",
    "print(t + m)\n",
    "print(t * 3)\n",
    "print(1 in t)\n",
    "print(1 in m)\n",
    "print(2 in m)"
   ]
  },
  {
   "cell_type": "code",
   "execution_count": null,
   "metadata": {
    "collapsed": true
   },
   "outputs": [],
   "source": []
  }
 ],
 "metadata": {
  "kernelspec": {
   "display_name": "Python 3",
   "language": "python",
   "name": "python3"
  },
  "language_info": {
   "codemirror_mode": {
    "name": "ipython",
    "version": 3
   },
   "file_extension": ".py",
   "mimetype": "text/x-python",
   "name": "python",
   "nbconvert_exporter": "python",
   "pygments_lexer": "ipython3",
   "version": "3.6.1"
  }
 },
 "nbformat": 4,
 "nbformat_minor": 2
}
